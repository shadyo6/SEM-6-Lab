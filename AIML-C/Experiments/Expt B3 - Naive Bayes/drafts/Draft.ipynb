{
 "cells": [
  {
   "cell_type": "code",
   "execution_count": 204,
   "metadata": {},
   "outputs": [],
   "source": [
    "import numpy as np\n",
    "import turicreate as tc\n",
    "np.random.seed(0)"
   ]
  },
  {
   "cell_type": "code",
   "execution_count": 205,
   "metadata": {},
   "outputs": [
    {
     "data": {
      "text/html": [
       "<pre>Finished parsing file /Users/luisserrano/Documents/Book/code/manning/Chapter 8 - Naive Bayes/emails.csv</pre>"
      ],
      "text/plain": [
       "Finished parsing file /Users/luisserrano/Documents/Book/code/manning/Chapter 8 - Naive Bayes/emails.csv"
      ]
     },
     "metadata": {},
     "output_type": "display_data"
    },
    {
     "data": {
      "text/html": [
       "<pre>Parsing completed. Parsed 100 lines in 0.17755 secs.</pre>"
      ],
      "text/plain": [
       "Parsing completed. Parsed 100 lines in 0.17755 secs."
      ]
     },
     "metadata": {},
     "output_type": "display_data"
    },
    {
     "name": "stdout",
     "output_type": "stream",
     "text": [
      "------------------------------------------------------\n",
      "Inferred types from first 100 line(s) of file as \n",
      "column_type_hints=[str,int]\n",
      "If parsing fails due to incorrect types, you can correct\n",
      "the inferred type list above and pass it to read_csv in\n",
      "the column_type_hints argument\n",
      "------------------------------------------------------\n"
     ]
    },
    {
     "data": {
      "text/html": [
       "<pre>Finished parsing file /Users/luisserrano/Documents/Book/code/manning/Chapter 8 - Naive Bayes/emails.csv</pre>"
      ],
      "text/plain": [
       "Finished parsing file /Users/luisserrano/Documents/Book/code/manning/Chapter 8 - Naive Bayes/emails.csv"
      ]
     },
     "metadata": {},
     "output_type": "display_data"
    },
    {
     "data": {
      "text/html": [
       "<pre>Parsing completed. Parsed 5728 lines in 0.199385 secs.</pre>"
      ],
      "text/plain": [
       "Parsing completed. Parsed 5728 lines in 0.199385 secs."
      ]
     },
     "metadata": {},
     "output_type": "display_data"
    }
   ],
   "source": [
    "emails = tc.SFrame('./emails.csv')"
   ]
  },
  {
   "cell_type": "code",
   "execution_count": 206,
   "metadata": {},
   "outputs": [
    {
     "data": {
      "text/html": [
       "<div style=\"max-height:1000px;max-width:1500px;overflow:auto;\"><table frame=\"box\" rules=\"cols\">\n",
       "    <tr>\n",
       "        <th style=\"padding-left: 1em; padding-right: 1em; text-align: center\">text</th>\n",
       "        <th style=\"padding-left: 1em; padding-right: 1em; text-align: center\">spam</th>\n",
       "    </tr>\n",
       "    <tr>\n",
       "        <td style=\"padding-left: 1em; padding-right: 1em; text-align: center; vertical-align: top\">Subject: naturally<br>irresistible your ...</td>\n",
       "        <td style=\"padding-left: 1em; padding-right: 1em; text-align: center; vertical-align: top\">1</td>\n",
       "    </tr>\n",
       "    <tr>\n",
       "        <td style=\"padding-left: 1em; padding-right: 1em; text-align: center; vertical-align: top\">Subject: the stock<br>trading gunslinger  f ...</td>\n",
       "        <td style=\"padding-left: 1em; padding-right: 1em; text-align: center; vertical-align: top\">1</td>\n",
       "    </tr>\n",
       "    <tr>\n",
       "        <td style=\"padding-left: 1em; padding-right: 1em; text-align: center; vertical-align: top\">Subject: unbelievable new<br>homes made easy  im ...</td>\n",
       "        <td style=\"padding-left: 1em; padding-right: 1em; text-align: center; vertical-align: top\">1</td>\n",
       "    </tr>\n",
       "    <tr>\n",
       "        <td style=\"padding-left: 1em; padding-right: 1em; text-align: center; vertical-align: top\">Subject: 4 color printing<br>special  request ...</td>\n",
       "        <td style=\"padding-left: 1em; padding-right: 1em; text-align: center; vertical-align: top\">1</td>\n",
       "    </tr>\n",
       "    <tr>\n",
       "        <td style=\"padding-left: 1em; padding-right: 1em; text-align: center; vertical-align: top\">Subject: do not have<br>money , get software cds ...</td>\n",
       "        <td style=\"padding-left: 1em; padding-right: 1em; text-align: center; vertical-align: top\">1</td>\n",
       "    </tr>\n",
       "    <tr>\n",
       "        <td style=\"padding-left: 1em; padding-right: 1em; text-align: center; vertical-align: top\">Subject: great nnews<br>hello , welcome to ...</td>\n",
       "        <td style=\"padding-left: 1em; padding-right: 1em; text-align: center; vertical-align: top\">1</td>\n",
       "    </tr>\n",
       "    <tr>\n",
       "        <td style=\"padding-left: 1em; padding-right: 1em; text-align: center; vertical-align: top\">Subject: here &#x27; s a hot<br>play in motion  homeland ...</td>\n",
       "        <td style=\"padding-left: 1em; padding-right: 1em; text-align: center; vertical-align: top\">1</td>\n",
       "    </tr>\n",
       "    <tr>\n",
       "        <td style=\"padding-left: 1em; padding-right: 1em; text-align: center; vertical-align: top\">Subject: save your money<br>buy getting this thing ...</td>\n",
       "        <td style=\"padding-left: 1em; padding-right: 1em; text-align: center; vertical-align: top\">1</td>\n",
       "    </tr>\n",
       "    <tr>\n",
       "        <td style=\"padding-left: 1em; padding-right: 1em; text-align: center; vertical-align: top\">Subject: undeliverable :<br>home based business for ...</td>\n",
       "        <td style=\"padding-left: 1em; padding-right: 1em; text-align: center; vertical-align: top\">1</td>\n",
       "    </tr>\n",
       "    <tr>\n",
       "        <td style=\"padding-left: 1em; padding-right: 1em; text-align: center; vertical-align: top\">Subject: save your money<br>buy getting this thing ...</td>\n",
       "        <td style=\"padding-left: 1em; padding-right: 1em; text-align: center; vertical-align: top\">1</td>\n",
       "    </tr>\n",
       "</table>\n",
       "[5728 rows x 2 columns]<br/>Note: Only the head of the SFrame is printed.<br/>You can use print_rows(num_rows=m, num_columns=n) to print more rows and columns.\n",
       "</div>"
      ],
      "text/plain": [
       "Columns:\n",
       "\ttext\tstr\n",
       "\tspam\tint\n",
       "\n",
       "Rows: 5728\n",
       "\n",
       "Data:\n",
       "+-------------------------------+------+\n",
       "|              text             | spam |\n",
       "+-------------------------------+------+\n",
       "| Subject: naturally irresis... |  1   |\n",
       "| Subject: the stock trading... |  1   |\n",
       "| Subject: unbelievable new ... |  1   |\n",
       "| Subject: 4 color printing ... |  1   |\n",
       "| Subject: do not have money... |  1   |\n",
       "| Subject: great nnews  hell... |  1   |\n",
       "| Subject: here ' s a hot pl... |  1   |\n",
       "| Subject: save your money b... |  1   |\n",
       "| Subject: undeliverable : h... |  1   |\n",
       "| Subject: save your money b... |  1   |\n",
       "+-------------------------------+------+\n",
       "[5728 rows x 2 columns]\n",
       "Note: Only the head of the SFrame is printed.\n",
       "You can use print_rows(num_rows=m, num_columns=n) to print more rows and columns."
      ]
     },
     "execution_count": 206,
     "metadata": {},
     "output_type": "execute_result"
    }
   ],
   "source": [
    "emails"
   ]
  },
  {
   "cell_type": "code",
   "execution_count": 207,
   "metadata": {},
   "outputs": [],
   "source": [
    "emails['words'] = tc.text_analytics.count_words(emails['text']).apply(lambda x:x.keys())"
   ]
  },
  {
   "cell_type": "code",
   "execution_count": 208,
   "metadata": {},
   "outputs": [
    {
     "data": {
      "text/html": [
       "<div style=\"max-height:1000px;max-width:1500px;overflow:auto;\"><table frame=\"box\" rules=\"cols\">\n",
       "    <tr>\n",
       "        <th style=\"padding-left: 1em; padding-right: 1em; text-align: center\">text</th>\n",
       "        <th style=\"padding-left: 1em; padding-right: 1em; text-align: center\">spam</th>\n",
       "        <th style=\"padding-left: 1em; padding-right: 1em; text-align: center\">words</th>\n",
       "    </tr>\n",
       "    <tr>\n",
       "        <td style=\"padding-left: 1em; padding-right: 1em; text-align: center; vertical-align: top\">Subject: naturally<br>irresistible your ...</td>\n",
       "        <td style=\"padding-left: 1em; padding-right: 1em; text-align: center; vertical-align: top\">1</td>\n",
       "        <td style=\"padding-left: 1em; padding-right: 1em; text-align: center; vertical-align: top\">[interested, portfolio,<br>this, result, extra, no, ...</td>\n",
       "    </tr>\n",
       "    <tr>\n",
       "        <td style=\"padding-left: 1em; padding-right: 1em; text-align: center; vertical-align: top\">Subject: the stock<br>trading gunslinger  f ...</td>\n",
       "        <td style=\"padding-left: 1em; padding-right: 1em; text-align: center; vertical-align: top\">1</td>\n",
       "        <td style=\"padding-left: 1em; padding-right: 1em; text-align: center; vertical-align: top\">[albeit, diffusion,<br>optima, attire, namea ...</td>\n",
       "    </tr>\n",
       "    <tr>\n",
       "        <td style=\"padding-left: 1em; padding-right: 1em; text-align: center; vertical-align: top\">Subject: unbelievable new<br>homes made easy  im ...</td>\n",
       "        <td style=\"padding-left: 1em; padding-right: 1em; text-align: center; vertical-align: top\">1</td>\n",
       "        <td style=\"padding-left: 1em; padding-right: 1em; text-align: center; vertical-align: top\">[pittman, foward, form,<br>1, the, website, visit, ...</td>\n",
       "    </tr>\n",
       "    <tr>\n",
       "        <td style=\"padding-left: 1em; padding-right: 1em; text-align: center; vertical-align: top\">Subject: 4 color printing<br>special  request ...</td>\n",
       "        <td style=\"padding-left: 1em; padding-right: 1em; text-align: center; vertical-align: top\">1</td>\n",
       "        <td style=\"padding-left: 1em; padding-right: 1em; text-align: center; vertical-align: top\">[and, advertisement, is,<br>fax, 91706, 626, ...</td>\n",
       "    </tr>\n",
       "    <tr>\n",
       "        <td style=\"padding-left: 1em; padding-right: 1em; text-align: center; vertical-align: top\">Subject: do not have<br>money , get software cds ...</td>\n",
       "        <td style=\"padding-left: 1em; padding-right: 1em; text-align: center; vertical-align: top\">1</td>\n",
       "        <td style=\"padding-left: 1em; padding-right: 1em; text-align: center; vertical-align: top\">[death, by, d, finish,<br>are, be, to, yet, from, ...</td>\n",
       "    </tr>\n",
       "    <tr>\n",
       "        <td style=\"padding-left: 1em; padding-right: 1em; text-align: center; vertical-align: top\">Subject: great nnews<br>hello , welcome to ...</td>\n",
       "        <td style=\"padding-left: 1em; padding-right: 1em; text-align: center; vertical-align: top\">1</td>\n",
       "        <td style=\"padding-left: 1em; padding-right: 1em; text-align: center; vertical-align: top\">[day, devitalize, have,<br>in, customers, 5, er, ...</td>\n",
       "    </tr>\n",
       "    <tr>\n",
       "        <td style=\"padding-left: 1em; padding-right: 1em; text-align: center; vertical-align: top\">Subject: here &#x27; s a hot<br>play in motion  homeland ...</td>\n",
       "        <td style=\"padding-left: 1em; padding-right: 1em; text-align: center; vertical-align: top\">1</td>\n",
       "        <td style=\"padding-left: 1em; padding-right: 1em; text-align: center; vertical-align: top\">[constitutes, accuracy,<br>websites, sources, ...</td>\n",
       "    </tr>\n",
       "    <tr>\n",
       "        <td style=\"padding-left: 1em; padding-right: 1em; text-align: center; vertical-align: top\">Subject: save your money<br>buy getting this thing ...</td>\n",
       "        <td style=\"padding-left: 1em; padding-right: 1em; text-align: center; vertical-align: top\">1</td>\n",
       "        <td style=\"padding-left: 1em; padding-right: 1em; text-align: center; vertical-align: top\">[get, aicohol, with, mix,<br>minutes, just, right, ...</td>\n",
       "    </tr>\n",
       "    <tr>\n",
       "        <td style=\"padding-left: 1em; padding-right: 1em; text-align: center; vertical-align: top\">Subject: undeliverable :<br>home based business for ...</td>\n",
       "        <td style=\"padding-left: 1em; padding-right: 1em; text-align: center; vertical-align: top\">1</td>\n",
       "        <td style=\"padding-left: 1em; padding-right: 1em; text-align: center; vertical-align: top\">[unknown, 6, co, 7059,<br>msexch, 5, 8, i, 4, 000, ...</td>\n",
       "    </tr>\n",
       "    <tr>\n",
       "        <td style=\"padding-left: 1em; padding-right: 1em; text-align: center; vertical-align: top\">Subject: save your money<br>buy getting this thing ...</td>\n",
       "        <td style=\"padding-left: 1em; padding-right: 1em; text-align: center; vertical-align: top\">1</td>\n",
       "        <td style=\"padding-left: 1em; padding-right: 1em; text-align: center; vertical-align: top\">[get, with, mix, minutes,<br>just, right, start, ...</td>\n",
       "    </tr>\n",
       "</table>\n",
       "[5728 rows x 3 columns]<br/>Note: Only the head of the SFrame is printed.<br/>You can use print_rows(num_rows=m, num_columns=n) to print more rows and columns.\n",
       "</div>"
      ],
      "text/plain": [
       "Columns:\n",
       "\ttext\tstr\n",
       "\tspam\tint\n",
       "\twords\tlist\n",
       "\n",
       "Rows: 5728\n",
       "\n",
       "Data:\n",
       "+-------------------------------+------+-------------------------------+\n",
       "|              text             | spam |             words             |\n",
       "+-------------------------------+------+-------------------------------+\n",
       "| Subject: naturally irresis... |  1   | [interested, portfolio, th... |\n",
       "| Subject: the stock trading... |  1   | [albeit, diffusion, optima... |\n",
       "| Subject: unbelievable new ... |  1   | [pittman, foward, form, 1,... |\n",
       "| Subject: 4 color printing ... |  1   | [and, advertisement, is, f... |\n",
       "| Subject: do not have money... |  1   | [death, by, d, finish, are... |\n",
       "| Subject: great nnews  hell... |  1   | [day, devitalize, have, in... |\n",
       "| Subject: here ' s a hot pl... |  1   | [constitutes, accuracy, we... |\n",
       "| Subject: save your money b... |  1   | [get, aicohol, with, mix, ... |\n",
       "| Subject: undeliverable : h... |  1   | [unknown, 6, co, 7059, mse... |\n",
       "| Subject: save your money b... |  1   | [get, with, mix, minutes, ... |\n",
       "+-------------------------------+------+-------------------------------+\n",
       "[5728 rows x 3 columns]\n",
       "Note: Only the head of the SFrame is printed.\n",
       "You can use print_rows(num_rows=m, num_columns=n) to print more rows and columns."
      ]
     },
     "execution_count": 208,
     "metadata": {},
     "output_type": "execute_result"
    }
   ],
   "source": [
    "emails"
   ]
  },
  {
   "cell_type": "code",
   "execution_count": 209,
   "metadata": {},
   "outputs": [
    {
     "name": "stdout",
     "output_type": "stream",
     "text": [
      "Total number of emails: 5728\n",
      "Total number of spam emails: 1368\n",
      "\n",
      "Prior probability that an email is spam: 0.2388268156424581\n"
     ]
    }
   ],
   "source": [
    "print(\"Total number of emails:\", len(emails))\n",
    "print(\"Total number of spam emails:\", sum(emails['spam']))\n",
    "print()\n",
    "print(\"Prior probability that an email is spam:\", sum(emails['spam'])/len(emails))"
   ]
  },
  {
   "cell_type": "code",
   "execution_count": 210,
   "metadata": {},
   "outputs": [],
   "source": [
    "model = {}\n",
    "words = 0\n",
    "\n",
    "for email in emails:\n",
    "    for word in email['words']:\n",
    "        is_spam = email['spam']\n",
    "        if word not in model: #If the word is not in the model\n",
    "            model[word] = {'spam':1, 'ham':1}\n",
    "        else: #If the word is in the model\n",
    "            if is_spam: #If the email is spam\n",
    "                model[word]['spam'] += 1\n",
    "            else: #If the email is ham\n",
    "                model[word]['ham'] += 1"
   ]
  },
  {
   "cell_type": "code",
   "execution_count": 211,
   "metadata": {},
   "outputs": [
    {
     "name": "stdout",
     "output_type": "stream",
     "text": [
      "lottery: {'spam': 8, 'ham': 1}\n",
      "sale: {'spam': 38, 'ham': 42}\n",
      "buy: {'spam': 119, 'ham': 132}\n",
      "hello: {'spam': 139, 'ham': 265}\n"
     ]
    }
   ],
   "source": [
    "print('lottery:', model['lottery'])\n",
    "print('sale:', model['sale'])\n",
    "print('buy:', model['buy'])\n",
    "print('hello:', model['hello'])"
   ]
  },
  {
   "cell_type": "code",
   "execution_count": 212,
   "metadata": {},
   "outputs": [],
   "source": [
    "def predict_bayes(word):\n",
    "    num_spam_with_word = model[word]['spam']\n",
    "    num_ham_with_word = model[word]['ham']\n",
    "    return 1.0*num_spam_with_word/(num_spam_with_word + num_ham_with_word)"
   ]
  },
  {
   "cell_type": "code",
   "execution_count": 213,
   "metadata": {},
   "outputs": [
    {
     "data": {
      "text/plain": [
       "0.8888888888888888"
      ]
     },
     "execution_count": 213,
     "metadata": {},
     "output_type": "execute_result"
    }
   ],
   "source": [
    "predict_bayes('lottery')"
   ]
  },
  {
   "cell_type": "code",
   "execution_count": 214,
   "metadata": {},
   "outputs": [
    {
     "data": {
      "text/plain": [
       "0.475"
      ]
     },
     "execution_count": 214,
     "metadata": {},
     "output_type": "execute_result"
    }
   ],
   "source": [
    "predict_bayes('sale')"
   ]
  },
  {
   "cell_type": "code",
   "execution_count": 215,
   "metadata": {},
   "outputs": [
    {
     "data": {
      "text/plain": [
       "0.47410358565737054"
      ]
     },
     "execution_count": 215,
     "metadata": {},
     "output_type": "execute_result"
    }
   ],
   "source": [
    "predict_bayes('buy')"
   ]
  },
  {
   "cell_type": "code",
   "execution_count": 216,
   "metadata": {},
   "outputs": [
    {
     "data": {
      "text/plain": [
       "0.34405940594059403"
      ]
     },
     "execution_count": 216,
     "metadata": {},
     "output_type": "execute_result"
    }
   ],
   "source": [
    "predict_bayes('hello')"
   ]
  },
  {
   "cell_type": "code",
   "execution_count": 217,
   "metadata": {},
   "outputs": [],
   "source": [
    "def predict_naive_bayes(email):\n",
    "    words = set(email.split())\n",
    "    spams = []\n",
    "    hams = []\n",
    "    for word in words:\n",
    "        if word in model:\n",
    "            spams.append(model[word]['spam'])\n",
    "            hams.append(model[word]['ham'])\n",
    "    prod_spams = np.long(np.prod(spams))\n",
    "    prod_hams = np.long(np.prod(hams))\n",
    "    return prod_spams/(prod_spams + prod_hams)"
   ]
  },
  {
   "cell_type": "code",
   "execution_count": 218,
   "metadata": {},
   "outputs": [
    {
     "data": {
      "text/plain": [
       "0.004409778009986974"
      ]
     },
     "execution_count": 218,
     "metadata": {},
     "output_type": "execute_result"
    }
   ],
   "source": [
    "predict_naive_bayes('hello mom how are you')"
   ]
  },
  {
   "cell_type": "code",
   "execution_count": 219,
   "metadata": {},
   "outputs": [
    {
     "data": {
      "text/plain": [
       "0.9898455158916786"
      ]
     },
     "execution_count": 219,
     "metadata": {},
     "output_type": "execute_result"
    }
   ],
   "source": [
    "predict_naive_bayes('buy cheap lottery easy money now')"
   ]
  },
  {
   "cell_type": "markdown",
   "metadata": {},
   "source": [
    "# In Sklearn"
   ]
  },
  {
   "cell_type": "code",
   "execution_count": 220,
   "metadata": {},
   "outputs": [],
   "source": [
    "from sklearn.naive_bayes import GaussianNB"
   ]
  },
  {
   "cell_type": "code",
   "execution_count": 221,
   "metadata": {},
   "outputs": [
    {
     "data": {
      "text/html": [
       "<div style=\"max-height:1000px;max-width:1500px;overflow:auto;\"><table frame=\"box\" rules=\"cols\">\n",
       "    <tr>\n",
       "        <th style=\"padding-left: 1em; padding-right: 1em; text-align: center\">text</th>\n",
       "        <th style=\"padding-left: 1em; padding-right: 1em; text-align: center\">spam</th>\n",
       "        <th style=\"padding-left: 1em; padding-right: 1em; text-align: center\">words</th>\n",
       "    </tr>\n",
       "    <tr>\n",
       "        <td style=\"padding-left: 1em; padding-right: 1em; text-align: center; vertical-align: top\">Subject: naturally<br>irresistible your ...</td>\n",
       "        <td style=\"padding-left: 1em; padding-right: 1em; text-align: center; vertical-align: top\">1</td>\n",
       "        <td style=\"padding-left: 1em; padding-right: 1em; text-align: center; vertical-align: top\">[interested, portfolio,<br>this, result, extra, no, ...</td>\n",
       "    </tr>\n",
       "    <tr>\n",
       "        <td style=\"padding-left: 1em; padding-right: 1em; text-align: center; vertical-align: top\">Subject: the stock<br>trading gunslinger  f ...</td>\n",
       "        <td style=\"padding-left: 1em; padding-right: 1em; text-align: center; vertical-align: top\">1</td>\n",
       "        <td style=\"padding-left: 1em; padding-right: 1em; text-align: center; vertical-align: top\">[albeit, diffusion,<br>optima, attire, namea ...</td>\n",
       "    </tr>\n",
       "    <tr>\n",
       "        <td style=\"padding-left: 1em; padding-right: 1em; text-align: center; vertical-align: top\">Subject: unbelievable new<br>homes made easy  im ...</td>\n",
       "        <td style=\"padding-left: 1em; padding-right: 1em; text-align: center; vertical-align: top\">1</td>\n",
       "        <td style=\"padding-left: 1em; padding-right: 1em; text-align: center; vertical-align: top\">[pittman, foward, form,<br>1, the, website, visit, ...</td>\n",
       "    </tr>\n",
       "    <tr>\n",
       "        <td style=\"padding-left: 1em; padding-right: 1em; text-align: center; vertical-align: top\">Subject: 4 color printing<br>special  request ...</td>\n",
       "        <td style=\"padding-left: 1em; padding-right: 1em; text-align: center; vertical-align: top\">1</td>\n",
       "        <td style=\"padding-left: 1em; padding-right: 1em; text-align: center; vertical-align: top\">[and, advertisement, is,<br>fax, 91706, 626, ...</td>\n",
       "    </tr>\n",
       "    <tr>\n",
       "        <td style=\"padding-left: 1em; padding-right: 1em; text-align: center; vertical-align: top\">Subject: do not have<br>money , get software cds ...</td>\n",
       "        <td style=\"padding-left: 1em; padding-right: 1em; text-align: center; vertical-align: top\">1</td>\n",
       "        <td style=\"padding-left: 1em; padding-right: 1em; text-align: center; vertical-align: top\">[death, by, d, finish,<br>are, be, to, yet, from, ...</td>\n",
       "    </tr>\n",
       "    <tr>\n",
       "        <td style=\"padding-left: 1em; padding-right: 1em; text-align: center; vertical-align: top\">Subject: great nnews<br>hello , welcome to ...</td>\n",
       "        <td style=\"padding-left: 1em; padding-right: 1em; text-align: center; vertical-align: top\">1</td>\n",
       "        <td style=\"padding-left: 1em; padding-right: 1em; text-align: center; vertical-align: top\">[day, devitalize, have,<br>in, customers, 5, er, ...</td>\n",
       "    </tr>\n",
       "    <tr>\n",
       "        <td style=\"padding-left: 1em; padding-right: 1em; text-align: center; vertical-align: top\">Subject: here &#x27; s a hot<br>play in motion  homeland ...</td>\n",
       "        <td style=\"padding-left: 1em; padding-right: 1em; text-align: center; vertical-align: top\">1</td>\n",
       "        <td style=\"padding-left: 1em; padding-right: 1em; text-align: center; vertical-align: top\">[constitutes, accuracy,<br>websites, sources, ...</td>\n",
       "    </tr>\n",
       "    <tr>\n",
       "        <td style=\"padding-left: 1em; padding-right: 1em; text-align: center; vertical-align: top\">Subject: save your money<br>buy getting this thing ...</td>\n",
       "        <td style=\"padding-left: 1em; padding-right: 1em; text-align: center; vertical-align: top\">1</td>\n",
       "        <td style=\"padding-left: 1em; padding-right: 1em; text-align: center; vertical-align: top\">[get, aicohol, with, mix,<br>minutes, just, right, ...</td>\n",
       "    </tr>\n",
       "    <tr>\n",
       "        <td style=\"padding-left: 1em; padding-right: 1em; text-align: center; vertical-align: top\">Subject: undeliverable :<br>home based business for ...</td>\n",
       "        <td style=\"padding-left: 1em; padding-right: 1em; text-align: center; vertical-align: top\">1</td>\n",
       "        <td style=\"padding-left: 1em; padding-right: 1em; text-align: center; vertical-align: top\">[unknown, 6, co, 7059,<br>msexch, 5, 8, i, 4, 000, ...</td>\n",
       "    </tr>\n",
       "    <tr>\n",
       "        <td style=\"padding-left: 1em; padding-right: 1em; text-align: center; vertical-align: top\">Subject: save your money<br>buy getting this thing ...</td>\n",
       "        <td style=\"padding-left: 1em; padding-right: 1em; text-align: center; vertical-align: top\">1</td>\n",
       "        <td style=\"padding-left: 1em; padding-right: 1em; text-align: center; vertical-align: top\">[get, with, mix, minutes,<br>just, right, start, ...</td>\n",
       "    </tr>\n",
       "</table>\n",
       "[5728 rows x 3 columns]<br/>Note: Only the head of the SFrame is printed.<br/>You can use print_rows(num_rows=m, num_columns=n) to print more rows and columns.\n",
       "</div>"
      ],
      "text/plain": [
       "Columns:\n",
       "\ttext\tstr\n",
       "\tspam\tint\n",
       "\twords\tlist\n",
       "\n",
       "Rows: 5728\n",
       "\n",
       "Data:\n",
       "+-------------------------------+------+-------------------------------+\n",
       "|              text             | spam |             words             |\n",
       "+-------------------------------+------+-------------------------------+\n",
       "| Subject: naturally irresis... |  1   | [interested, portfolio, th... |\n",
       "| Subject: the stock trading... |  1   | [albeit, diffusion, optima... |\n",
       "| Subject: unbelievable new ... |  1   | [pittman, foward, form, 1,... |\n",
       "| Subject: 4 color printing ... |  1   | [and, advertisement, is, f... |\n",
       "| Subject: do not have money... |  1   | [death, by, d, finish, are... |\n",
       "| Subject: great nnews  hell... |  1   | [day, devitalize, have, in... |\n",
       "| Subject: here ' s a hot pl... |  1   | [constitutes, accuracy, we... |\n",
       "| Subject: save your money b... |  1   | [get, aicohol, with, mix, ... |\n",
       "| Subject: undeliverable : h... |  1   | [unknown, 6, co, 7059, mse... |\n",
       "| Subject: save your money b... |  1   | [get, with, mix, minutes, ... |\n",
       "+-------------------------------+------+-------------------------------+\n",
       "[5728 rows x 3 columns]\n",
       "Note: Only the head of the SFrame is printed.\n",
       "You can use print_rows(num_rows=m, num_columns=n) to print more rows and columns."
      ]
     },
     "execution_count": 221,
     "metadata": {},
     "output_type": "execute_result"
    }
   ],
   "source": [
    "emails"
   ]
  },
  {
   "cell_type": "code",
   "execution_count": 223,
   "metadata": {},
   "outputs": [
    {
     "data": {
      "text/plain": [
       "['subject', 'to', 'the', 'and', 'you', 'a', 'for', 'of', 'in', 'is']"
      ]
     },
     "execution_count": 223,
     "metadata": {},
     "output_type": "execute_result"
    }
   ],
   "source": [
    "# Finding the 100 most popular words in the dataset\n",
    "words_dict = {}\n",
    "for email in emails:\n",
    "    for word in email['words']:\n",
    "        if word in words_dict.keys():\n",
    "            words_dict[word] += 1\n",
    "        else:\n",
    "            words_dict[word] = 1\n",
    "\n",
    "word_tuples = sorted(words_dict.items(), key=lambda item: item[1], reverse=True)[:200]\n",
    "popular_words = [t[0] for t in word_tuples]\n",
    "\n",
    "popular_words[:10]"
   ]
  },
  {
   "cell_type": "code",
   "execution_count": null,
   "metadata": {},
   "outputs": [],
   "source": [
    "for word in popular_words:\n",
    "    emails[word] = emails.apply(lambda x: word in x['words'])"
   ]
  },
  {
   "cell_type": "code",
   "execution_count": null,
   "metadata": {},
   "outputs": [],
   "source": [
    "emails"
   ]
  },
  {
   "cell_type": "code",
   "execution_count": null,
   "metadata": {},
   "outputs": [],
   "source": []
  }
 ],
 "metadata": {
  "kernelspec": {
   "display_name": "Python 3",
   "language": "python",
   "name": "python3"
  },
  "language_info": {
   "codemirror_mode": {
    "name": "ipython",
    "version": 3
   },
   "file_extension": ".py",
   "mimetype": "text/x-python",
   "name": "python",
   "nbconvert_exporter": "python",
   "pygments_lexer": "ipython3",
   "version": "3.7.6"
  }
 },
 "nbformat": 4,
 "nbformat_minor": 4
}
