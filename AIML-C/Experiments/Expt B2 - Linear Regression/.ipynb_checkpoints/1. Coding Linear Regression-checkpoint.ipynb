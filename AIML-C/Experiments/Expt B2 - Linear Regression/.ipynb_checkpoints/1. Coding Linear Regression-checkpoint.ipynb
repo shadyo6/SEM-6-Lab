{
 "cells": [
  {
   "cell_type": "code",
   "execution_count": 5,
   "metadata": {},
   "outputs": [],
   "source": [
    "# Importing packages\n",
    "from matplotlib import pyplot as plt\n",
    "import numpy as np\n",
    "import random"
   ]
  },
  {
   "cell_type": "code",
   "execution_count": 6,
   "metadata": {},
   "outputs": [],
   "source": [
    "# Some functions to plot our points and draw the lines\n",
    "def plot_points(features, labels):\n",
    "    X = np.array(features)\n",
    "    y = np.array(labels)\n",
    "    plt.scatter(X, y)\n",
    "    plt.xlabel('number of rooms')\n",
    "    plt.ylabel('prices')\n",
    "def draw_line(slope, y_intercept, color='grey', linewidth=0.7, starting=0,ending=4):     #G\n",
    "    x = np.linspace(0, 8, 1000)\n",
    "    plt.plot(x, y_intercept + slope*x, linestyle='-', color=color, linewidth=linewidth)"
   ]
  },
  {
   "cell_type": "code",
   "execution_count": 7,
   "metadata": {},
   "outputs": [
    {
     "data": {
      "text/html": [
       "<div>\n",
       "<style scoped>\n",
       "    .dataframe tbody tr th:only-of-type {\n",
       "        vertical-align: middle;\n",
       "    }\n",
       "\n",
       "    .dataframe tbody tr th {\n",
       "        vertical-align: top;\n",
       "    }\n",
       "\n",
       "    .dataframe thead th {\n",
       "        text-align: right;\n",
       "    }\n",
       "</style>\n",
       "<table border=\"1\" class=\"dataframe\">\n",
       "  <thead>\n",
       "    <tr style=\"text-align: right;\">\n",
       "      <th></th>\n",
       "      <th>0</th>\n",
       "      <th>1</th>\n",
       "    </tr>\n",
       "  </thead>\n",
       "  <tbody>\n",
       "    <tr>\n",
       "      <th>0</th>\n",
       "      <td>1</td>\n",
       "      <td>155</td>\n",
       "    </tr>\n",
       "    <tr>\n",
       "      <th>1</th>\n",
       "      <td>2</td>\n",
       "      <td>197</td>\n",
       "    </tr>\n",
       "    <tr>\n",
       "      <th>2</th>\n",
       "      <td>3</td>\n",
       "      <td>244</td>\n",
       "    </tr>\n",
       "    <tr>\n",
       "      <th>3</th>\n",
       "      <td>5</td>\n",
       "      <td>356</td>\n",
       "    </tr>\n",
       "    <tr>\n",
       "      <th>4</th>\n",
       "      <td>6</td>\n",
       "      <td>407</td>\n",
       "    </tr>\n",
       "    <tr>\n",
       "      <th>5</th>\n",
       "      <td>7</td>\n",
       "      <td>448</td>\n",
       "    </tr>\n",
       "  </tbody>\n",
       "</table>\n",
       "</div>"
      ],
      "text/plain": [
       "   0    1\n",
       "0  1  155\n",
       "1  2  197\n",
       "2  3  244\n",
       "3  5  356\n",
       "4  6  407\n",
       "5  7  448"
      ]
     },
     "execution_count": 7,
     "metadata": {},
     "output_type": "execute_result"
    }
   ],
   "source": [
    "import pandas as pd\n",
    "features = pd.Series([1,2,3,5,6,7])\n",
    "labels = pd.Series([155, 197, 244, 356,407,448])\n",
    "pd.concat([features, labels], axis=1)"
   ]
  },
  {
   "cell_type": "code",
   "execution_count": 8,
   "metadata": {},
   "outputs": [
    {
     "data": {
      "image/png": "[encoded data removed]",
      "text/plain": [
       "<Figure size 432x288 with 1 Axes>"
      ]
     },
     "metadata": {
      "needs_background": "light"
     },
     "output_type": "display_data"
    }
   ],
   "source": [
    "plot_points(features, labels)"
   ]
  },
  {
   "cell_type": "code",
   "execution_count": 9,
   "metadata": {},
   "outputs": [],
   "source": [
    "def simple_trick(base_price, price_per_room, num_rooms, price, learning_rate):\n",
    "    predicted_price = base_price + price_per_room*num_rooms\n",
    "    if price > predicted_price and num_rooms > 0:\n",
    "        price_per_room += learning_rate\n",
    "        base_price += learning_rate\n",
    "    if price > predicted_price and num_rooms < 0:\n",
    "        price_per_room -= learning_rate\n",
    "        base_price += learning_rate\n",
    "    if price < predicted_price and num_rooms > 0:\n",
    "        price_per_room -= learning_rate\n",
    "        base_price -= learning_rate\n",
    "    if price < predicted_price and num_rooms < 0:\n",
    "        price_per_room -= learning_rate\n",
    "        base_price += learning_rate\n",
    "    return price_per_room, base_price"
   ]
  },
  {
   "cell_type": "code",
   "execution_count": 10,
   "metadata": {},
   "outputs": [],
   "source": [
    "def absolute_trick(base_price, price_per_room, num_rooms, price, learning_rate):\n",
    "    predicted_price = base_price + price_per_room*num_rooms\n",
    "    if price > predicted_price:\n",
    "        price_per_room += learning_rate*num_rooms\n",
    "        base_price += learning_rate\n",
    "    else:\n",
    "        price_per_room -= learning_rate*num_rooms\n",
    "        base_price -= learning_rate\n",
    "    return price_per_room, base_price"
   ]
  },
  {
   "cell_type": "code",
   "execution_count": 11,
   "metadata": {},
   "outputs": [],
   "source": [
    "def square_trick(base_price, price_per_room, num_rooms, price, learning_rate):\n",
    "    predicted_price = base_price + price_per_room*num_rooms\n",
    "    price_per_room += learning_rate*num_rooms*(price-predicted_price)\n",
    "    base_price += learning_rate*(price-predicted_price)\n",
    "    return price_per_room, base_price"
   ]
  },
  {
   "cell_type": "code",
   "execution_count": 12,
   "metadata": {},
   "outputs": [
    {
     "name": "stdout",
     "output_type": "stream",
     "text": [
      "('Price per room:', 51.84693076477512)\n",
      "('Base price:', 90.14266263049726)\n"
     ]
    },
    {
     "data": {
      "text/plain": [
       "(51.84693076477512, 90.14266263049726)"
      ]
     },
     "execution_count": 12,
     "metadata": {},
     "output_type": "execute_result"
    },
    {
     "data": {
      "image/png": "[encoded data removed]",
      "text/plain": [
       "<Figure size 432x288 with 1 Axes>"
      ]
     },
     "metadata": {
      "needs_background": "light"
     },
     "output_type": "display_data"
    }
   ],
   "source": [
    "import random as rd\n",
    "random.seed(0)\n",
    "def linear_regression(features, labels, learning_rate=0.01, epochs = 1000):\n",
    "    price_per_room = random.random()\n",
    "    base_price = random.random()\n",
    "    num_printed_lines = 100\n",
    "    for i in range(epochs):\n",
    "        if i>50 and i % (epochs/num_printed_lines) == 0:\n",
    "            draw_line(price_per_room, base_price)\n",
    "        i = random.randint(0, len(features)-1)\n",
    "        num_rooms = features[i]\n",
    "        price = labels[i]\n",
    "#        price_per_room, base_price = simple_trick(base_price,\n",
    "#        price_per_room, base_price = absolute_trick(base_price,\n",
    "        price_per_room, base_price = square_trick(base_price,\n",
    "                                                  price_per_room,\n",
    "                                                  num_rooms,\n",
    "                                                  price,\n",
    "                                                  learning_rate=learning_rate)\n",
    "    draw_line(price_per_room, base_price, 'black')\n",
    "    plot_points(features, labels)\n",
    "    print('Price per room:', price_per_room)\n",
    "    print('Base price:', base_price)\n",
    "    return price_per_room, base_price\n",
    "linear_regression(features, labels, learning_rate = 0.01, epochs = 1000)"
   ]
  },
  {
   "cell_type": "code",
   "execution_count": null,
   "metadata": {},
   "outputs": [],
   "source": []
  }
 ],
 "metadata": {
  "kernelspec": {
   "display_name": "Python 2",
   "language": "python",
   "name": "python2"
  },
  "language_info": {
   "codemirror_mode": {
    "name": "ipython",
    "version": 2
   },
   "file_extension": ".py",
   "mimetype": "text/x-python",
   "name": "python",
   "nbconvert_exporter": "python",
   "pygments_lexer": "ipython2",
   "version": "2.7.15"
  }
 },
 "nbformat": 4,
 "nbformat_minor": 2
}
